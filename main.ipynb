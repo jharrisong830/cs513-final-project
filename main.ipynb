{
 "cells": [
  {
   "cell_type": "code",
   "execution_count": null,
   "id": "74b061e7",
   "metadata": {},
   "outputs": [],
   "source": [
    "import pandas as pd\n",
    "\n",
    "from os import getcwd\n",
    "\n",
    "from sklearn.preprocessing import OneHotEncoder\n",
    "from sklearn.pipeline import Pipeline\n",
    "from sklearn.compose import ColumnTransformer\n",
    "from sklearn.naive_bayes import CategoricalNB\n",
    "from sklearn.model_selection import train_test_split\n",
    "from sklearn.metrics import accuracy_score, classification_report, confusion_matrix"
   ]
  },
  {
   "cell_type": "code",
   "execution_count": null,
   "id": "a67e8cc7",
   "metadata": {},
   "outputs": [],
   "source": [
    "cwd = getcwd()\n",
    "data = \"data\"\n",
    "raw_data_file = \"ObesityDataSet_raw_and_data_sinthetic.csv\"\n",
    "\n",
    "df = pd.read_csv(f\"{cwd}/{data}/{raw_data_file}\", na_values=\"?\").dropna() # drop any null values\n",
    "df[\"NObeyesdad\"] = df[\"NObeyesdad\"].map(lambda x: 1 if \"Obesity\" in x else 0) # make obesity binary (either True or False instead of types)\n",
    "\n",
    "df.head()"
   ]
  },
  {
   "cell_type": "code",
   "execution_count": null,
   "id": "54660572",
   "metadata": {},
   "outputs": [],
   "source": [
    "attr = df.drop(\"NObeyesdad\", axis=1)\n",
    "target = df[\"NObeyesdad\"]\n",
    "\n",
    "categorical_columns = [\"Gender\", \"family_history_with_overweight\", \"FAVC\", \"CAEC\", \"SMOKE\", \"SCC\", \"CALC\", \"MTRANS\"]\n",
    "\n",
    "preprocessor = ColumnTransformer(transformers=[\n",
    "    ('categorical', OneHotEncoder(handle_unknown=\"infrequent_if_exist\"), categorical_columns)\n",
    "])\n",
    "\n",
    "model = Pipeline(steps=[\n",
    "    ('preprocessor', preprocessor),\n",
    "    ('classifier', CategoricalNB())\n",
    "])\n",
    "\n",
    "attr_train, attr_test, target_train, target_test = train_test_split(attr, target, test_size=0.2, random_state=513)\n",
    "\n",
    "model.fit(attr_train, target_train)\n",
    "\n",
    "target_pred = model.predict(attr_test)\n",
    "acc = accuracy_score(target_test, target_pred)\n",
    "cm = confusion_matrix(target_test, target_pred)\n",
    "cr = classification_report(target_test, target_pred)\n",
    "\n",
    "print(acc)\n",
    "print(cm)\n",
    "print(cr)"
   ]
  }
 ],
 "metadata": {
  "kernelspec": {
   "display_name": "Python 3",
   "language": "python",
   "name": "python3"
  },
  "language_info": {
   "codemirror_mode": {
    "name": "ipython",
    "version": 3
   },
   "file_extension": ".py",
   "mimetype": "text/x-python",
   "name": "python",
   "nbconvert_exporter": "python",
   "pygments_lexer": "ipython3",
   "version": "3.11.11"
  }
 },
 "nbformat": 4,
 "nbformat_minor": 5
}
