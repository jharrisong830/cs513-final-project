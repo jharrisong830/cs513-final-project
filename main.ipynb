{
 "cells": [
  {
   "cell_type": "markdown",
   "id": "4655bb87",
   "metadata": {},
   "source": [
    "#### Import Libraries"
   ]
  },
  {
   "cell_type": "code",
   "execution_count": null,
   "id": "74b061e7",
   "metadata": {},
   "outputs": [],
   "source": [
    "import pandas as pd\n",
    "\n",
    "from os import getcwd\n",
    "\n",
    "from sklearn.preprocessing import OneHotEncoder\n",
    "from sklearn.preprocessing import MinMaxScaler\n",
    "from sklearn.ensemble import RandomForestClassifier\n",
    "from sklearn.pipeline import Pipeline\n",
    "from sklearn.compose import ColumnTransformer\n",
    "from sklearn.model_selection import train_test_split\n",
    "from sklearn.metrics import accuracy_score, classification_report, confusion_matrix"
   ]
  },
  {
   "cell_type": "markdown",
   "id": "d64b09c0",
   "metadata": {},
   "source": [
    "#### Load Dataset (`data/Student Depression Dataset.csv`)"
   ]
  },
  {
   "cell_type": "code",
   "execution_count": null,
   "id": "a67e8cc7",
   "metadata": {},
   "outputs": [],
   "source": [
    "RANDOM_STATE = 513\n",
    "\n",
    "cwd = getcwd()\n",
    "data = \"data\"\n",
    "raw_data_file = \"Student Depression Dataset.csv\"\n",
    "\n",
    "df = pd.read_csv(f\"{cwd}/{data}/{raw_data_file}\", na_values=\"?\").dropna() # drop any null values\n",
    "\n",
    "df.info()\n",
    "df.head()"
   ]
  },
  {
   "cell_type": "markdown",
   "id": "fb771586",
   "metadata": {},
   "source": [
    "#### Cleaning Data"
   ]
  },
  {
   "cell_type": "code",
   "execution_count": null,
   "id": "54660572",
   "metadata": {},
   "outputs": [],
   "source": [
    "df = df.drop(\"id\", axis=1) # drop id (not needed for training)\n",
    "\n",
    "# Convert these categorical yes/no questions to 1/0\n",
    "df[\"Have you ever had suicidal thoughts ?\"] = df[\"Have you ever had suicidal thoughts ?\"].map(lambda x: 1 if x == \"Yes\" else 0)\n",
    "df[\"Family History of Mental Illness\"] = df[\"Family History of Mental Illness\"].map(lambda x: 1 if x == \"Yes\" else 0)\n",
    "\n",
    "df.info()\n",
    "df.head()"
   ]
  },
  {
   "cell_type": "markdown",
   "id": "8854b929",
   "metadata": {},
   "source": [
    "#### Train-Test Split"
   ]
  },
  {
   "cell_type": "code",
   "execution_count": null,
   "id": "5e6d5fad",
   "metadata": {},
   "outputs": [],
   "source": [
    "attr = df.drop(\"Depression\", axis=1)\n",
    "target = df[\"Depression\"]\n",
    "\n",
    "attr_train, attr_test, target_train, target_test = train_test_split(attr, target, test_size=0.2, random_state=RANDOM_STATE)"
   ]
  },
  {
   "cell_type": "markdown",
   "id": "e28f6b90",
   "metadata": {},
   "source": [
    "#### Preprocessing & Model Configuration"
   ]
  },
  {
   "cell_type": "code",
   "execution_count": null,
   "id": "68613e42",
   "metadata": {},
   "outputs": [],
   "source": [
    "categorical_columns = attr.columns[attr.dtypes == \"object\"].tolist()\n",
    "numerical_columns = attr.columns[attr.dtypes != \"object\"].tolist()\n",
    "print(f\"categorical columns = {categorical_columns}\")\n",
    "print(f\"numerical columns = {numerical_columns}\")\n",
    "\n",
    "preprocessor = ColumnTransformer(transformers=[\n",
    "    ('categorical', OneHotEncoder(handle_unknown=\"infrequent_if_exist\"), categorical_columns),\n",
    "    ('numerical', MinMaxScaler(), numerical_columns)\n",
    "])\n",
    "\n",
    "model = Pipeline(steps=[\n",
    "    ('preprocessor', preprocessor),\n",
    "    ('classifier', RandomForestClassifier())\n",
    "])"
   ]
  },
  {
   "cell_type": "markdown",
   "id": "c82e28e9",
   "metadata": {},
   "source": [
    "#### Model Fitting & Predictions"
   ]
  },
  {
   "cell_type": "code",
   "execution_count": null,
   "id": "16af789d",
   "metadata": {},
   "outputs": [],
   "source": [
    "model.fit(attr_train, target_train)\n",
    "target_pred = model.predict(attr_test)"
   ]
  },
  {
   "cell_type": "markdown",
   "id": "630a8b39",
   "metadata": {},
   "source": [
    "#### Metrics & Accuracy"
   ]
  },
  {
   "cell_type": "code",
   "execution_count": null,
   "id": "4f90d3c4",
   "metadata": {},
   "outputs": [],
   "source": [
    "acc = accuracy_score(target_test, target_pred)\n",
    "cm = confusion_matrix(target_test, target_pred)\n",
    "cr = classification_report(target_test, target_pred)\n",
    "\n",
    "print(acc)\n",
    "print(cm)\n",
    "print(cr)"
   ]
  }
 ],
 "metadata": {
  "kernelspec": {
   "display_name": "Python 3",
   "language": "python",
   "name": "python3"
  },
  "language_info": {
   "codemirror_mode": {
    "name": "ipython",
    "version": 3
   },
   "file_extension": ".py",
   "mimetype": "text/x-python",
   "name": "python",
   "nbconvert_exporter": "python",
   "pygments_lexer": "ipython3",
   "version": "3.11.11"
  }
 },
 "nbformat": 4,
 "nbformat_minor": 5
}
